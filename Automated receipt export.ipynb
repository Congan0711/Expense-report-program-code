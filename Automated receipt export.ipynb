{
 "cells": [
  {
   "cell_type": "code",
   "execution_count": null,
   "id": "1de589bd-344b-4aae-ba47-af6077c229f2",
   "metadata": {},
   "outputs": [],
   "source": [
    "import pandas as pd\n",
    "import xlwings as xw\n",
    "wb1 = xw.Book(r\"研發領據個資_程式編寫版.xlsx\")\n",
    "wb2 = xw.Book(r\"研發印領清冊範本113年度.xlsx\")\n",
    "data_sheet = wb1.sheets[\"工作表1\"]\n",
    "report_sheet1 = wb2.sheets[\"閱卷費\"]\n",
    "report_sheet2 = wb2.sheets[\"暫存\"]\n",
    "df = data_sheet.range(\"A1\").options(pd.DataFrame, expand=\"table\").value\n",
    "#將原始資料輸入為DataFrame格式\n",
    "name = []\n",
    "restart = \"Y\"\n",
    "while restart == \"Y\":\n",
    "    search = input(\"請輸入一筆報帳者姓名：\")\n",
    "    if search in df.index:\n",
    "        name.append(search)\n",
    "    else:\n",
    "        print(\"資料庫內沒有此報帳者資料，請重新確認。\")            \n",
    "    while True:\n",
    "        try:\n",
    "            restart = str(input(\"請問是否還有其他報帳者？（Y/N）\"))\n",
    "            if (restart == \"Y\") or (restart == \"N\"):\n",
    "                break\n",
    "        except:\n",
    "            print(\"只能輸入Y或N字母大寫半形。\")\n",
    "            \n",
    "df_choose = df.loc[name]\n",
    "df_choose_data = df_choose[[\"身分證字號\", \"郵局/銀行\", \"帳號\", \"服務單位\", \"職別\"]]\n",
    "#選取所需要的資料並存入新的excel\n",
    "report_sheet2.range(\"A1\").value = df_choose_data\n",
    "last_row = report_sheet2.range(\"A2\").end(\"down\").row\n",
    "report_sheet1.range(\"C9\").value = report_sheet2.range(\"E2\", f\"F{last_row}\").value\n",
    "report_sheet1.range(\"E9\").value = report_sheet2.range(\"A2\", f\"B{last_row}\").value\n",
    "report_sheet1.range(\"L9\").value = report_sheet2.range(\"C2\", f\"D{last_row}\").value\n",
    "new_name = input(\"新領據清冊的檔案名稱叫什麼？\")\n",
    "wb2.save(new_name + r\".xlsx\")"
   ]
  },
  {
   "cell_type": "code",
   "execution_count": null,
   "id": "1512fbfc-b744-4c02-ab07-a0e486925d5d",
   "metadata": {},
   "outputs": [],
   "source": []
  }
 ],
 "metadata": {
  "kernelspec": {
   "display_name": "Python 3 (ipykernel)",
   "language": "python",
   "name": "python3"
  },
  "language_info": {
   "codemirror_mode": {
    "name": "ipython",
    "version": 3
   },
   "file_extension": ".py",
   "mimetype": "text/x-python",
   "name": "python",
   "nbconvert_exporter": "python",
   "pygments_lexer": "ipython3",
   "version": "3.11.7"
  }
 },
 "nbformat": 4,
 "nbformat_minor": 5
}
